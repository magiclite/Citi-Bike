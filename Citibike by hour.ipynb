{
 "cells": [
  {
   "cell_type": "code",
   "execution_count": 1,
   "metadata": {},
   "outputs": [],
   "source": [
    "import numpy as np\n",
    "from scipy import stats\n",
    "import pandas as pd\n",
    "from matplotlib import pyplot as plt\n",
    "\n",
    "import time\n",
    "#from datetime import *\n",
    "from calendar import timegm\n",
    "\n",
    "import pickle\n",
    "\n",
    "pd.set_option('display.max_columns',20)\n",
    "\n",
    "file = '/Users/JiIn/Desktop/Data/201809-citibike-tripdata.csv'\n",
    "\n",
    "df_citibike = pd.read_csv(file)\n",
    "\n",
    "#, nrows = 10\n",
    "#remove outliers outside of 3 stdev\n",
    "df_citibike = df_citibike[(np.abs(stats.zscore(df_citibike['tripduration'])) < 2.5)] \n",
    "\n",
    "def StripDate(rawDateString):\n",
    "    striptime = time.strptime(rawDateString,\"%Y-%m-%d %H:%M:%S.%f\")\n",
    "    return striptime\n",
    "\n",
    "def EpochDate(strip):\n",
    "    epochtime = timegm(strip)\n",
    "    return epochtime \n",
    "def Hour(striptime):\n",
    "    hour = striptime.tm_hour\n",
    "    return hour\n",
    "\n",
    "df_citibike['startstrip'] = df_citibike.apply(lambda x: StripDate(x['starttime']), axis=1)\n",
    "df_citibike['startepoch'] = df_citibike.apply(lambda x: EpochDate(x['startstrip']), axis =1)\n",
    "df_citibike['starthour'] = df_citibike.apply(lambda x: Hour(x['startstrip']) ,axis=1)\n",
    "\n",
    "df_citibike['stopstrip'] = df_citibike.apply(lambda x: StripDate(x['stoptime']), axis=1)\n",
    "df_citibike['stopepoch'] = df_citibike.apply(lambda x: EpochDate(x['stopstrip']), axis =1)\n",
    "df_citibike['stophour'] = df_citibike.apply(lambda x: Hour(x['stopstrip']) ,axis=1)\n",
    "\n"
   ]
  },
  {
   "cell_type": "code",
   "execution_count": 2,
   "metadata": {},
   "outputs": [],
   "source": [
    "#extract start hour, station id, and frequency\n",
    "df_start = df_citibike[['starthour', 'start station id', 'tripduration']]\n",
    "df_start.set_index(['starthour', 'start station id'], inplace = True)\n",
    "df_start = df_start.groupby(level = ['starthour', 'start station id']).count()\n",
    "df_start = df_start.rename(index = str, columns = {'tripduration':'startfreq'})"
   ]
  },
  {
   "cell_type": "code",
   "execution_count": 3,
   "metadata": {},
   "outputs": [],
   "source": [
    "df_stop = df_citibike[['stophour', 'end station id', 'tripduration']]\n",
    "df_stop.set_index(['stophour', 'end station id'], inplace = True)\n",
    "df_stop = df_stop.groupby(level = ['stophour', 'end station id']).count()\n",
    "df_stop = df_stop.rename(index = str, columns = {'tripduration': 'stopfreq'})"
   ]
  },
  {
   "cell_type": "code",
   "execution_count": 4,
   "metadata": {},
   "outputs": [],
   "source": [
    "def getAllUniqueStations(df):\n",
    "    start_li = df['start station id']\n",
    "    end_li = df['end station id']\n",
    "    master_li = start_li.append(end_li)\n",
    "    return master_li.unique()"
   ]
  },
  {
   "cell_type": "code",
   "execution_count": 5,
   "metadata": {},
   "outputs": [],
   "source": [
    "#index by start and end station names \n",
    "df_start_station = df_citibike.set_index('start station id')\n",
    "df_end_station = df_citibike.set_index('end station id')"
   ]
  },
  {
   "cell_type": "code",
   "execution_count": 6,
   "metadata": {},
   "outputs": [],
   "source": [
    "#create a dictionary - search thru df indexed by station names and add to dict\n",
    "station_list = getAllUniqueStations(df_citibike)\n",
    "station_dict = {}\n",
    "for i in range(len(station_list)):\n",
    "    query = None\n",
    "    if station_list[i] in df_start_station.index:\n",
    "        query = df_start_station.loc[station_list[i],['start station longitude','start station latitude', 'start station name']]\n",
    "    else:\n",
    "        query = df_end_station.loc[station_list[i], ['end station longitude', 'end station latitude', 'end station name']]\n",
    "    if(isinstance(query, pd.core.frame.DataFrame)):\n",
    "        query = query.iloc[0]\n",
    "    station_dict[station_list[i]] = query"
   ]
  },
  {
   "cell_type": "code",
   "execution_count": 9,
   "metadata": {},
   "outputs": [
    {
     "name": "stderr",
     "output_type": "stream",
     "text": [
      "/Users/JiIn/anaconda3/lib/python3.6/site-packages/ipykernel_launcher.py:28: PerformanceWarning: indexing past lexsort depth may impact performance.\n",
      "/Users/JiIn/anaconda3/lib/python3.6/site-packages/ipykernel_launcher.py:36: PerformanceWarning: indexing past lexsort depth may impact performance.\n"
     ]
    }
   ],
   "source": [
    "import folium as fm\n",
    "from matplotlib import pyplot as plt\n",
    "\n",
    "#plot a map of Manhattan\n",
    "\n",
    "\n",
    "#put circle markers for every end station\n",
    "def createBubbleMap(data, hour, color):\n",
    "    bubbleMap = fm.Map(location = [40.738, -73.98], zoom_start =13, tiles = 'CartoDB dark_matter')\n",
    "    \n",
    "    hour_str = str(hour)\n",
    "    \n",
    "    for index in data.loc[(hour_str,)].index:\n",
    "        #print(index)\n",
    "        MarkerScale = 200.0\n",
    "        lat = station_dict[int(float(index))][1]\n",
    "        long = station_dict[int(float(index))][0]\n",
    "        name = station_dict[int(float(index))][2]\n",
    "        marker = fm.CircleMarker(location = [lat,long], popup = name, color = color, radius = data.loc[(hour_str,index)][0]/MarkerScale)\n",
    "        marker.add_to(bubbleMap)\n",
    "    return(bubbleMap)    \n",
    "\n",
    "def OverlapBubbleMap(hour, startcolor, endcolor):\n",
    "    m3 = fm.Map(location = [40.738, -73.98], zoom_start =13, tiles = 'CartoDB dark_matter')\n",
    "    \n",
    "    hour_str = str(hour)\n",
    "    \n",
    "    for index in df_start.loc[(hour_str,)].index:\n",
    "        MarkerScale = 200.0\n",
    "        lat = station_dict[int(float(index))][1]\n",
    "        long = station_dict[int(float(index))][0]\n",
    "        name = station_dict[int(float(index))][2]\n",
    "        marker = fm.CircleMarker(location = [lat,long], popup = name, color = startcolor, radius = df_start.loc[(hour_str,index)][0]/MarkerScale, fill_color = startcolor)\n",
    "        marker.add_to(m3)\n",
    "        \n",
    "    for index in df_stop.loc[(hour_str,)].index:\n",
    "        MarkerScale = 200.0\n",
    "        lat = station_dict[int(float(index))][1]\n",
    "        long = station_dict[int(float(index))][0]\n",
    "        name = station_dict[int(float(index))][2]\n",
    "        marker = fm.CircleMarker(location = [lat,long], popup = name, color = endcolor, radius = df_stop.loc[(hour_str,index)][0]/MarkerScale, fill_color = endcolor)\n",
    "        marker.add_to(m3)\n",
    "    \n",
    "    return(m3)\n",
    "    \n",
    "\n",
    "#ZeroStart = StartBubbleMap(0,'crimson')\n",
    "#ZeroStart = createBubbleMap(df_start, 0,'crimson')\n",
    "\n",
    "\n",
    "    \n",
    "\n",
    "Zero = OverlapBubbleMap(0,'yellow','aqua')\n",
    "One = OverlapBubbleMap(1,'yellow','aqua')\n",
    "Two = OverlapBubbleMap(2,'yellow','aqua')\n",
    "Three = OverlapBubbleMap(3,'yellow','aqua')\n",
    "Four = OverlapBubbleMap(4,'yellow','aqua')\n",
    "Five = OverlapBubbleMap(5,'yellow','aqua')\n",
    "Six = OverlapBubbleMap(6,'yellow','aqua')\n",
    "Seven = OverlapBubbleMap(7,'yellow','aqua')\n",
    "Eight = OverlapBubbleMap(8,'yellow','aqua')\n",
    "Nine = OverlapBubbleMap(9,'yellow','aqua')\n",
    "Ten = OverlapBubbleMap(10,'yellow','aqua')\n",
    "Eleven = OverlapBubbleMap(11,'yellow','aqua')\n",
    "Twelve = OverlapBubbleMap(12,'yellow','aqua')\n",
    "Thirteen = OverlapBubbleMap(13,'yellow','aqua')\n",
    "Fourteen = OverlapBubbleMap(14,'yellow','aqua')\n",
    "Fifteen = OverlapBubbleMap(15,'yellow','aqua')\n",
    "Sixteen = OverlapBubbleMap(16,'yellow','aqua')\n",
    "Seventeen = OverlapBubbleMap(17,'yellow','aqua')\n",
    "Eighteen = OverlapBubbleMap(18,'yellow','aqua')\n",
    "Nineteen = OverlapBubbleMap(19,'yellow','aqua')\n",
    "Twenty = OverlapBubbleMap(20,'yellow','aqua')\n",
    "Twentyone = OverlapBubbleMap(21,'yellow','aqua')\n",
    "Twentytwo = OverlapBubbleMap(22,'yellow','aqua')\n",
    "Twentythree = OverlapBubbleMap(23,'yellow','aqua')\n",
    "\n",
    "\n",
    "\n",
    "#NineStart = StartBubbleMap(9,'crimson')\n",
    "#NineEnd = EndBubbleMap(9,'aqua')\n",
    "#NineOver = OverlapBubbleMap(9,'crimson','aqua')"
   ]
  },
  {
   "cell_type": "code",
   "execution_count": null,
   "metadata": {},
   "outputs": [],
   "source": []
  }
 ],
 "metadata": {
  "kernelspec": {
   "display_name": "Python 3",
   "language": "python",
   "name": "python3"
  },
  "language_info": {
   "codemirror_mode": {
    "name": "ipython",
    "version": 3
   },
   "file_extension": ".py",
   "mimetype": "text/x-python",
   "name": "python",
   "nbconvert_exporter": "python",
   "pygments_lexer": "ipython3",
   "version": "3.6.5"
  }
 },
 "nbformat": 4,
 "nbformat_minor": 2
}
